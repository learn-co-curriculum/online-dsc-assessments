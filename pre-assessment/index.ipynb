{
 "cells": [
  {
   "cell_type": "markdown",
   "metadata": {},
   "source": [
    "# Instructions\n",
    "This is just some fun work to do until we start on day 1 :)\n",
    "    \n",
    "This isn't an assessment, just some practice\n",
    "\n",
    "Keyboard commands that you'll have memorized soon\n",
    "\n",
    "**TAB**: shows coding options in a dropdown menu (if there are any)\n",
    "\n",
    "**SHIFT+ENTER**: runs the code in the current cell and moves onto the next cell\n",
    "\n",
    "**CONTROL+ENTER**: runs the code in the current cell and stays in the current cell\n",
    "\n",
    "**SHIFT+TAB x 1**: shows the documentation for stuff\n",
    "\n",
    "**SHIFT+TAB x 2**: shows the documentation but has a dropdown menu\n",
    "\n",
    "**SHIFT+TAB x 4**: shows documentation but in a window at the bottom of the browser"
   ]
  },
  {
   "cell_type": "code",
   "execution_count": 5,
   "metadata": {},
   "outputs": [
    {
     "name": "stdout",
     "output_type": "stream",
     "text": [
      "this is a string\n"
     ]
    }
   ],
   "source": [
    "# hit shift+enter to run this cell\n",
    "example = \"this is a string\"\n",
    "print(example)"
   ]
  },
  {
   "cell_type": "code",
   "execution_count": 7,
   "metadata": {},
   "outputs": [
    {
     "data": {
      "text/plain": [
       "'This is a string'"
      ]
     },
     "execution_count": 7,
     "metadata": {},
     "output_type": "execute_result"
    }
   ],
   "source": [
    "# go to the end of 'exmaple.' and hit tab to see all of the ways you can manipulate this string\n",
    "# pick capitalize and add parenthese to it\n",
    "# example.capitalize() then hit shift+enter to run the cell\n",
    "example.capitalize()"
   ]
  },
  {
   "cell_type": "code",
   "execution_count": 2,
   "metadata": {},
   "outputs": [
    {
     "name": "stdout",
     "output_type": "stream",
     "text": [
      "None None\n"
     ]
    }
   ],
   "source": [
    "# set x equal to any number\n",
    "x = None\n",
    "\n",
    "# set y equal to 3 * x\n",
    "y = None\n",
    "\n",
    "print(x, y) # should print x and y\""
   ]
  },
  {
   "cell_type": "code",
   "execution_count": 1,
   "metadata": {},
   "outputs": [],
   "source": [
    "s = \"I cannot wait to code in Python\"\n",
    "\n",
    "# set lower_s = s, but lowercase all of the letters in s \n",
    "lower_s = None\n",
    "\n",
    "# set upper_s = s, but uppercase all of the letters in s\n",
    "upper_s = None\n",
    "\n",
    "# set swap_s = s, but swap all the cases in s, if it's upper it should be lower and it's lower it should be upper\n",
    "swap_s = None"
   ]
  },
  {
   "cell_type": "code",
   "execution_count": 3,
   "metadata": {},
   "outputs": [],
   "source": [
    "\n",
    "def hello_person():\n",
    "    \"\"\"\n",
    "    this function should take in a name (as a string)\n",
    "    and return 'Hello {name}'\n",
    "    \n",
    "    ex: hello_person('Raf') -> 'Hello Raf'\n",
    "    \"\"\"\n",
    "    # your code goes here\n",
    "    return "
   ]
  },
  {
   "cell_type": "code",
   "execution_count": 4,
   "metadata": {},
   "outputs": [],
   "source": [
    "def power(a, b):\n",
    "    \"\"\"\n",
    "    this function takes in a and b\n",
    "    make it return a^b\n",
    "    \n",
    "    ex1: power(2, 3) -> 8, since 2^3 = 2*2*2 = 8\n",
    "    ex2: power(3, 4) -> 81, since 3^4 = 3*3*3*3 = 81\"\"\"\n",
    "    return"
   ]
  }
 ],
 "metadata": {
  "kernelspec": {
   "display_name": "Python [conda env:flatiron-env] *",
   "language": "python",
   "name": "conda-env-flatiron-env-py"
  },
  "language_info": {
   "codemirror_mode": {
    "name": "ipython",
    "version": 3
   },
   "file_extension": ".py",
   "mimetype": "text/x-python",
   "name": "python",
   "nbconvert_exporter": "python",
   "pygments_lexer": "ipython3",
   "version": "3.6.10"
  }
 },
 "nbformat": 4,
 "nbformat_minor": 4
}
