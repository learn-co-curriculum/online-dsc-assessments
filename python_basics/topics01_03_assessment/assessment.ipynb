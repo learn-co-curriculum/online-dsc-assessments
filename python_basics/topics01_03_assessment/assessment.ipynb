{
 "cells": [
  {
   "cell_type": "code",
   "execution_count": 2,
   "metadata": {},
   "outputs": [],
   "source": [
    "import random\n",
    "\n",
    "# use the random.randint function for the following task\n",
    "\n",
    "def create_random_numbers(mini, maxi, total_nums):\n",
    "    \"\"\"\n",
    "    write a function that takes in mini, maxi and total nums\n",
    "    \n",
    "    mini - int, the lowest possible random value in the list\n",
    "    maxi - int, the highest possible rnadom value in the list\n",
    "    total_nums - int, the total number of elements in the random list\n",
    "    \n",
    "    return\n",
    "    lst - list, list, of length total_nums, where all numbers are between mini and maxi\n",
    "    \n",
    "    ex: \n",
    "    create_random_numbers(mini=0, maxi=5, total_nums=10)\n",
    "    \n",
    "    could return\n",
    "    \n",
    "    [0, 1, 4, 3, 2, 4, 0, 5, 2, 1]\n",
    "    \"\"\"\n",
    "    lst = [random.randint(mini, maxi) for i in range(total_nums)]\n",
    "    return lst"
   ]
  },
  {
   "cell_type": "code",
   "execution_count": 3,
   "metadata": {},
   "outputs": [],
   "source": [
    "# run this cell to create a random list of 30 integers between 0 and 20\n",
    "\n",
    "myRandomList = create_random_numbers(0, 20, 30)"
   ]
  },
  {
   "cell_type": "code",
   "execution_count": 4,
   "metadata": {},
   "outputs": [],
   "source": [
    "# write a function that calculates the following statistics\n",
    "\n",
    "def get_mean(lst):\n",
    "    \"\"\"\n",
    "    input\n",
    "    lst: a list of integers/floats\n",
    "    \n",
    "    return\n",
    "    mean: the mean of a list\n",
    "    \"\"\"\n",
    "    mean = sum(lst)/len(lst)\n",
    "    return mean"
   ]
  },
  {
   "cell_type": "code",
   "execution_count": 5,
   "metadata": {},
   "outputs": [],
   "source": [
    "# write a function to calculate the range of a list\n",
    "def get_range(lst):\n",
    "    \"\"\"\n",
    "    lst: a list of integers/floats\n",
    "    \n",
    "    return\n",
    "    range: int/float, the range of the list (difference between the max and min values)\n",
    "    \"\"\"\n",
    "    rng = max(lst) - min(lst)\n",
    "    return rng"
   ]
  },
  {
   "cell_type": "code",
   "execution_count": 6,
   "metadata": {},
   "outputs": [],
   "source": [
    "# run this cell to test your functions\n",
    "# remember if nothing prints you did this correctly\n",
    "from solutions import get_mean_actual, get_range_actual\n",
    "\n",
    "actual_mean = get_mean(myRandomList)\n",
    "expected_mean = get_mean_actual(myRandomList)\n",
    "\n",
    "assert actual_mean==expected_mean, f\"\\nYour mean function returned {actual_mean}\\nShould have returned {expected_mean}\"\n",
    "\n",
    "actual_range = get_range(myRandomList)\n",
    "expected_range = get_range_actual(myRandomList)\n",
    "\n",
    "assert actual_range==expected_range, f\"\\nYour range function returned {actual_range}\\nShould have returned {expected_range}\""
   ]
  },
  {
   "cell_type": "markdown",
   "metadata": {},
   "source": [
    "# String Stuff\n",
    "Contrary to popular opinion, Toto's best song is not Africa, but Georgy Porgy\n",
    "\n",
    "* answer the following questions about the song lyrics of Georgy Porgy"
   ]
  },
  {
   "cell_type": "code",
   "execution_count": 7,
   "metadata": {},
   "outputs": [],
   "source": [
    "from solutions import count_words\n",
    "with open(\"./toto_lyrics.txt\") as f:\n",
    "    lyrics = f.read()\n",
    "    expected_count = count_words(lyrics)"
   ]
  },
  {
   "cell_type": "code",
   "execution_count": 8,
   "metadata": {},
   "outputs": [
    {
     "data": {
      "text/plain": [
       "\"It's not your situation, I just need contemplation over you\\nI'm not so systematic, it's just that I'm an addict for your love\\nNot the only one that holds you, I never ever should have told you\\nYou're my only girl\\nI'm not the only one that holds you, I never ever should have told you\\nYou're my only world\\nJust think how long I've known you, it's long for me to own you, lock and key\\nIt's really not confusing, I'm just the young illusion, can't you see\\nI'm not the only one that holds you, I never ever should have told you\\nYou're my only girl\\nI'm not the only one that holds you, I never ever should have told you\\nYou're my only world\\nGeorgy Porgy, pudding pie, kissed the girls and made them cry\\nKissed the girls and made them cry, kissed the girls and made them cry\\nIt's not your situation, I just need contemplation over you\\nI'm not so systematic, it's just that I'm an addict for your love\\nNot the only one that holds you, I never ever should have told you\\nYou're my only girl\\nI'm not the only one that holds you, I never ever should have told you\\nYou're my only world\\nGeorgy Porgy, pudding pie, kissed the girls and made them cry\\nKissed the girls and made them cry, kissed the girls and made them cry\\nGeorgy Porgy, pudding pie, kissed the girls and made them cry\\nKissed the girls and made them cry, kissed the girls and made them high\\nGeorgy Porgy\\nKissed the girls and made them cry, kissed the girls and made them high\\nGeorgy Porgy\\nKissed the girls and made them cry, kissed the girls and made them cry\""
      ]
     },
     "execution_count": 8,
     "metadata": {},
     "output_type": "execute_result"
    }
   ],
   "source": [
    "lyrics"
   ]
  },
  {
   "cell_type": "code",
   "execution_count": 11,
   "metadata": {},
   "outputs": [],
   "source": [
    "# count the total number words in the song\n",
    "word_count = len(lyrics.replace(\"\\n\", \" \").split(\" \"))"
   ]
  },
  {
   "cell_type": "code",
   "execution_count": 12,
   "metadata": {},
   "outputs": [],
   "source": [
    "# test your code here\n",
    "actual_count = word_count\n",
    "assert actual_count==expected_count, f\"\\nYour Count is {actual_count}\\nShould Be {expected_count}\""
   ]
  },
  {
   "cell_type": "code",
   "execution_count": 13,
   "metadata": {},
   "outputs": [],
   "source": [
    "# Create a dictionary from the lyrics where \n",
    "# keys are the first letter of the word, values is a list of all the words that start with that letter\n",
    "# this should not be case sensitive, so That and that, should be in the same list\n",
    "# That, that -> \"t\": [\"That\", \"that\"]\n",
    "from collections import defaultdict\n",
    "first_letter_dict = defaultdict(list)\n",
    "\n",
    "words = lyrics.replace(\"\\n\", \" \").split(\" \")\n",
    "for word in words:\n",
    "    first_letter_dict[word[0].lower()].append(word)"
   ]
  },
  {
   "cell_type": "code",
   "execution_count": 14,
   "metadata": {},
   "outputs": [],
   "source": [
    "# test your code here\n",
    "from solutions import create_first_letter_dict\n",
    "\n",
    "with open(\"./toto_lyrics.txt\") as f:\n",
    "    lyrics = f.read()\n",
    "    expected_dict = create_first_letter_dict(lyrics)\n",
    "\n",
    "assert first_letter_dict==expected_dict, f\"\\nYour Dictionary: {first_letter_dict}\\nShould Be: {expected_dict}\""
   ]
  },
  {
   "cell_type": "code",
   "execution_count": 17,
   "metadata": {},
   "outputs": [
    {
     "data": {
      "text/plain": [
       "19"
      ]
     },
     "execution_count": 17,
     "metadata": {},
     "output_type": "execute_result"
    }
   ],
   "source": [
    "# How many unique first letters are there?\n",
    "unique_first_letters = len(first_letter_dict.keys())\n",
    "unique_first_letters"
   ]
  },
  {
   "cell_type": "code",
   "execution_count": 16,
   "metadata": {},
   "outputs": [
    {
     "data": {
      "text/plain": [
       "61"
      ]
     },
     "execution_count": 16,
     "metadata": {},
     "output_type": "execute_result"
    }
   ],
   "source": [
    "# How many unique words are in the song? (upper and lower are equivalent, in other words That=that)\n",
    "unique_word_count = len(set(lyrics.lower().replace(\"\\n\", \" \").split(\" \")))\n",
    "unique_word_count"
   ]
  },
  {
   "cell_type": "markdown",
   "metadata": {},
   "source": [
    "# FizzBuzz"
   ]
  },
  {
   "cell_type": "code",
   "execution_count": 18,
   "metadata": {},
   "outputs": [],
   "source": [
    "def fizzBuzz(n):\n",
    "    \"\"\"\n",
    "    write a function that goes through the numbers [1 to n] inclusive\n",
    "    and \n",
    "    prints 'Fizz' if a number is divisible by 3\n",
    "    prints 'Buzz' if a number is divisible by 5\n",
    "    prints 'FizzBuzz' if a number is divisible by both\n",
    "    prints nothing for anything else\n",
    "    \n",
    "    input\n",
    "    n, int denoting how many numbers 1 to n to check\n",
    "    \n",
    "    return None\n",
    "    \n",
    "    ex:\n",
    "    fizzBuzz(20) prints\n",
    "    Fizz (for 3)\n",
    "    Buzz (for 5)\n",
    "    Fizz (for 6)\n",
    "    Fizz (for 9)\n",
    "    Buzz (for 10)\n",
    "    Fizz (for 12)\n",
    "    FizzBuzz (for 15)\n",
    "    Fizz (for 18)\n",
    "    Buzz (for 20)\n",
    "    \"\"\"\n",
    "    for number in range(1, n+1):\n",
    "        if number%15==0:\n",
    "            print(\"FizzBuzz\")\n",
    "        elif number%5==0:\n",
    "            print(\"Buzz\")\n",
    "        elif number%3==0:\n",
    "            print(\"Fizz\")\n",
    "    return None"
   ]
  },
  {
   "cell_type": "code",
   "execution_count": 19,
   "metadata": {},
   "outputs": [
    {
     "name": "stdout",
     "output_type": "stream",
     "text": [
      "Fizz\n",
      "Buzz\n",
      "Fizz\n",
      "Fizz\n",
      "Buzz\n",
      "Fizz\n",
      "FizzBuzz\n",
      "Fizz\n",
      "Buzz\n"
     ]
    }
   ],
   "source": [
    "# test your code\n",
    "fizzBuzz(20)"
   ]
  },
  {
   "cell_type": "code",
   "execution_count": 20,
   "metadata": {},
   "outputs": [
    {
     "name": "stdout",
     "output_type": "stream",
     "text": [
      "Fizz\n",
      "Buzz\n",
      "Fizz\n",
      "Fizz\n",
      "Buzz\n",
      "Fizz\n",
      "FizzBuzz\n",
      "Fizz\n",
      "Buzz\n",
      "Fizz\n",
      "Fizz\n",
      "Buzz\n",
      "Fizz\n",
      "FizzBuzz\n",
      "Fizz\n",
      "Buzz\n",
      "Fizz\n",
      "Fizz\n",
      "Buzz\n",
      "Fizz\n",
      "FizzBuzz\n",
      "Fizz\n",
      "Buzz\n",
      "Fizz\n",
      "Fizz\n",
      "Buzz\n",
      "Fizz\n",
      "FizzBuzz\n",
      "Fizz\n",
      "Buzz\n",
      "Fizz\n",
      "Fizz\n",
      "Buzz\n",
      "Fizz\n",
      "FizzBuzz\n",
      "Fizz\n",
      "Buzz\n",
      "Fizz\n",
      "Fizz\n",
      "Buzz\n",
      "Fizz\n",
      "FizzBuzz\n",
      "Fizz\n",
      "Buzz\n",
      "Fizz\n",
      "Fizz\n",
      "Buzz\n"
     ]
    }
   ],
   "source": [
    "fizzBuzz(100)"
   ]
  },
  {
   "cell_type": "code",
   "execution_count": null,
   "metadata": {},
   "outputs": [],
   "source": []
  }
 ],
 "metadata": {
  "kernelspec": {
   "display_name": "Python [conda env:flatiron-env] *",
   "language": "python",
   "name": "conda-env-flatiron-env-py"
  },
  "language_info": {
   "codemirror_mode": {
    "name": "ipython",
    "version": 3
   },
   "file_extension": ".py",
   "mimetype": "text/x-python",
   "name": "python",
   "nbconvert_exporter": "python",
   "pygments_lexer": "ipython3",
   "version": "3.6.10"
  }
 },
 "nbformat": 4,
 "nbformat_minor": 4
}
