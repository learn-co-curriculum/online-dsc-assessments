{
 "cells": [
  {
   "cell_type": "code",
   "execution_count": null,
   "metadata": {},
   "outputs": [],
   "source": [
    "import random\n",
    "\n",
    "# use the random.randint function for the following task\n",
    "\n",
    "def create_random_numbers(mini, maxi, total_nums):\n",
    "    \"\"\"\n",
    "    write a function that takes in mini, maxi and total nums\n",
    "    \n",
    "    mini - int, the lowest possible random value in the list\n",
    "    maxi - int, the highest possible rnadom value in the list\n",
    "    total_nums - int, the total number of elements in the random list\n",
    "    \n",
    "    return\n",
    "    lst - list, list, of length total_nums, where all numbers are between mini and maxi\n",
    "    \n",
    "    ex: \n",
    "    create_random_numbers(mini=0, maxi=5, total_nums=10)\n",
    "    \n",
    "    could return\n",
    "    \n",
    "    [0, 1, 4, 3, 2, 4, 0, 5, 2, 1]\n",
    "    \"\"\"\n",
    "    lst = []\n",
    "    return lst"
   ]
  },
  {
   "cell_type": "code",
   "execution_count": null,
   "metadata": {},
   "outputs": [],
   "source": [
    "# run this cell to create a random list of 30 integers between 0 and 20\n",
    "\n",
    "myRandomList = create_random_numbers(0, 20, 30)"
   ]
  },
  {
   "cell_type": "code",
   "execution_count": null,
   "metadata": {},
   "outputs": [],
   "source": [
    "# write a function that calculates the following statistics\n",
    "\n",
    "def get_mean(lst):\n",
    "    \"\"\"\n",
    "    input\n",
    "    lst: a list of integers/floats\n",
    "    \n",
    "    return\n",
    "    mean: the mean of a list\n",
    "    \"\"\"\n",
    "    mean = None\n",
    "    return mean"
   ]
  },
  {
   "cell_type": "code",
   "execution_count": null,
   "metadata": {},
   "outputs": [],
   "source": [
    "# write a function to calculate the range of a list\n",
    "def get_range(lst):\n",
    "    \"\"\"\n",
    "    lst: a list of integers/floats\n",
    "    \n",
    "    return\n",
    "    range: int/float, the range of the list (difference between the max and min values)\n",
    "    \"\"\"\n",
    "    rng = None\n",
    "    return rng"
   ]
  },
  {
   "cell_type": "code",
   "execution_count": null,
   "metadata": {},
   "outputs": [],
   "source": [
    "# run this cell to test your functions\n",
    "# remember if nothing prints you did this correctly\n",
    "from solutions import get_mean_actual, get_range_actual\n",
    "\n",
    "actual_mean = get_mean(myRandomList)\n",
    "expected_mean = get_mean_actual(myRandomList)\n",
    "\n",
    "assert actual_mean==expected_mean, f\"\\nYour mean function returned {actual_mean}\\nShould have returned {expected_mean}\"\n",
    "\n",
    "actual_range = get_range(myRandomList)\n",
    "expected_range = get_range_actual(myRandomList)\n",
    "\n",
    "assert actual_range==expected_range, f\"\\nYour range function returned {actual_range}\\nShould have returned {expected_range}\""
   ]
  },
  {
   "cell_type": "markdown",
   "metadata": {},
   "source": [
    "# String Stuff\n",
    "Contrary to popular opinion, Toto's best song is not Africa, but Georgy Porgy\n",
    "\n",
    "* answer the following questions about the song lyrics of Georgy Porgy"
   ]
  },
  {
   "cell_type": "code",
   "execution_count": null,
   "metadata": {},
   "outputs": [],
   "source": [
    "from solutions import count_words\n",
    "with open(\"./toto_lyrics.txt\") as f:\n",
    "    lyrics = f.read()\n",
    "    expected_count = count_words(lyrics)"
   ]
  },
  {
   "cell_type": "code",
   "execution_count": null,
   "metadata": {},
   "outputs": [],
   "source": [
    "# count the total number words in the song\n",
    "word_count = None"
   ]
  },
  {
   "cell_type": "code",
   "execution_count": null,
   "metadata": {},
   "outputs": [],
   "source": [
    "# test your code here\n",
    "actual_count = word_count\n",
    "assert actual_count==expected_count, f\"\\nYour Count is {actual_count}\\nShould Be {expected_count}\""
   ]
  },
  {
   "cell_type": "code",
   "execution_count": null,
   "metadata": {},
   "outputs": [],
   "source": [
    "# Create a dictionary from the lyrics where \n",
    "# keys are the first letter of the word, values is a list of all the words that start with that letter\n",
    "# this should not be case sensitive, so That and that, should be in the same list\n",
    "# That, that -> \"t\": [\"That\", \"that\"]\n",
    "first_letter_dict = {}"
   ]
  },
  {
   "cell_type": "code",
   "execution_count": null,
   "metadata": {},
   "outputs": [],
   "source": [
    "# test your code here\n",
    "from solutions import create_first_letter_dict\n",
    "\n",
    "with open(\"./toto_lyrics.txt\") as f:\n",
    "    lyrics = f.read()\n",
    "    expected_dict = create_first_letter_dict(lyrics)\n",
    "\n",
    "assert first_letter_dict==expected_dict, f\"\\nYour Dictionary: {first_letter_dict}\\nShould Be: {expected_dict}\""
   ]
  },
  {
   "cell_type": "code",
   "execution_count": null,
   "metadata": {},
   "outputs": [],
   "source": [
    "# How many unique first letters are there?\n",
    "unique_first_letters = None"
   ]
  },
  {
   "cell_type": "code",
   "execution_count": null,
   "metadata": {},
   "outputs": [],
   "source": [
    "# How many unique words are in the song? (upper and lower are equivalent, in other words That=that)\n",
    "unique_word_count = None"
   ]
  },
  {
   "cell_type": "markdown",
   "metadata": {},
   "source": [
    "# FizzBuzz"
   ]
  },
  {
   "cell_type": "code",
   "execution_count": null,
   "metadata": {},
   "outputs": [],
   "source": [
    "def fizzBuzz(n):\n",
    "    \"\"\"\n",
    "    write a function that goes through the numbers [1 to n] inclusive\n",
    "    and \n",
    "    prints 'Fizz' if a number is divisible by 3\n",
    "    prints 'Buzz' if a number is divisible by 5\n",
    "    prints 'FizzBuzz' if a number is divisible by both\n",
    "    prints nothing for anything else\n",
    "    \n",
    "    input\n",
    "    n, int denoting how many numbers 1 to n to check\n",
    "    \n",
    "    return None\n",
    "    \n",
    "    ex:\n",
    "    fizzBuzz(20) prints\n",
    "    Fizz (for 3)\n",
    "    Buzz (for 5)\n",
    "    Fizz (for 6)\n",
    "    Fizz (for 9)\n",
    "    Buzz (for 10)\n",
    "    Fizz (for 12)\n",
    "    FizzBuzz (for 15)\n",
    "    Fizz (for 18)\n",
    "    Buzz (for 20)\n",
    "    \"\"\"\n",
    "    return None"
   ]
  },
  {
   "cell_type": "code",
   "execution_count": null,
   "metadata": {},
   "outputs": [],
   "source": [
    "# test your code\n",
    "fizzBuzz(20)"
   ]
  },
  {
   "cell_type": "code",
   "execution_count": null,
   "metadata": {},
   "outputs": [],
   "source": [
    "fizzBuzz(100)"
   ]
  },
  {
   "cell_type": "code",
   "execution_count": null,
   "metadata": {},
   "outputs": [],
   "source": []
  }
 ],
 "metadata": {
  "kernelspec": {
   "display_name": "Python [conda env:flatiron-env] *",
   "language": "python",
   "name": "conda-env-flatiron-env-py"
  },
  "language_info": {
   "codemirror_mode": {
    "name": "ipython",
    "version": 3
   },
   "file_extension": ".py",
   "mimetype": "text/x-python",
   "name": "python",
   "nbconvert_exporter": "python",
   "pygments_lexer": "ipython3",
   "version": "3.6.10"
  }
 },
 "nbformat": 4,
 "nbformat_minor": 4
}
