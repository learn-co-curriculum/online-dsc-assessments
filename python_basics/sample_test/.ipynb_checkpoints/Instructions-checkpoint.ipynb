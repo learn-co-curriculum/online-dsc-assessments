{
 "cells": [
  {
   "cell_type": "markdown",
   "metadata": {},
   "source": [
    "# Instructions\n",
    "\n",
    "1. **open [student.py](../edit/student.py)**\n",
    "2. **write** the functions to complete the assigned tasks in the file\n",
    "3. **test** your code in the cell below\n",
    "4. if a test passes you'll see `.` if a test fails you'll see `F`\n",
    "    * Example if there are 5 tests and the code written \n",
    "      \n",
    "\n",
    "|scenario | outcome |\n",
    "| ---- | ---- |\n",
    "|passes all tests | ..... | \n",
    "|passes all but the 2nd test| .F...| \n",
    "|fails all tests| FFFFF | \n"
   ]
  },
  {
   "cell_type": "markdown",
   "metadata": {},
   "source": [
    "# ⬇️ ⬇️ ⬇️ ⬇️ RUN TESTS HERE ⬇️ ⬇️ ⬇️ ⬇️ "
   ]
  },
  {
   "cell_type": "code",
   "execution_count": 2,
   "metadata": {},
   "outputs": [
    {
     "name": "stdout",
     "output_type": "stream",
     "text": [
      "FF\r\n",
      "======================================================================\r\n",
      "FAIL: test_hello_world (__main__.TestStudent)\r\n",
      "----------------------------------------------------------------------\r\n",
      "Traceback (most recent call last):\r\n",
      "  File \"test_student.py\", line 10, in test_hello_world\r\n",
      "    self.assertEqual(a, b, \"hello world is not working\")\r\n",
      "AssertionError: None != 'hello world' : hello world is not working\r\n",
      "\r\n",
      "======================================================================\r\n",
      "FAIL: test_summ (__main__.TestStudent)\r\n",
      "----------------------------------------------------------------------\r\n",
      "Traceback (most recent call last):\r\n",
      "  File \"test_student.py\", line 18, in test_summ\r\n",
      "    self.assertEqual(actual, expected, \"summ function is not working\")\r\n",
      "AssertionError: None != 11 : summ function is not working\r\n",
      "\r\n",
      "----------------------------------------------------------------------\r\n",
      "Ran 2 tests in 0.000s\r\n",
      "\r\n",
      "FAILED (failures=2)\r\n"
     ]
    }
   ],
   "source": [
    "# just run this cell to run the test for student.py\n",
    "!python test_student.py"
   ]
  },
  {
   "cell_type": "code",
   "execution_count": null,
   "metadata": {},
   "outputs": [],
   "source": []
  }
 ],
 "metadata": {
  "kernelspec": {
   "display_name": "Python [conda env:flatiron-env] *",
   "language": "python",
   "name": "conda-env-flatiron-env-py"
  },
  "language_info": {
   "codemirror_mode": {
    "name": "ipython",
    "version": 3
   },
   "file_extension": ".py",
   "mimetype": "text/x-python",
   "name": "python",
   "nbconvert_exporter": "python",
   "pygments_lexer": "ipython3",
   "version": "3.6.10"
  }
 },
 "nbformat": 4,
 "nbformat_minor": 4
}
